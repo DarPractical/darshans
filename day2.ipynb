{
 "cells": [
  {
   "cell_type": "code",
   "execution_count": 1,
   "id": "b7554928-0b89-4936-b556-378d7e437d89",
   "metadata": {},
   "outputs": [
    {
     "name": "stdout",
     "output_type": "stream",
     "text": [
      "Is name=='darshan'? i predict true\n",
      "True\n"
     ]
    }
   ],
   "source": [
    "name=\"darshan\"\n",
    "print(\"Is name=='darshan'? i predict true\")\n",
    "print(name==\"darshan\")\n"
   ]
  },
  {
   "cell_type": "code",
   "execution_count": 3,
   "id": "a166e5b5-b40b-4d62-a736-3ddd6b7f9702",
   "metadata": {},
   "outputs": [
    {
     "data": {
      "text/plain": [
       "False"
      ]
     },
     "execution_count": 3,
     "metadata": {},
     "output_type": "execute_result"
    }
   ],
   "source": [
    "name=\"darshan\"\n",
    "u_name=name.upper()\n",
    "name==u_name\n"
   ]
  },
  {
   "cell_type": "code",
   "execution_count": 4,
   "id": "8ceb7eaa-c2d0-4c3c-9c02-f70c84d03058",
   "metadata": {},
   "outputs": [
    {
     "data": {
      "text/plain": [
       "False"
      ]
     },
     "execution_count": 4,
     "metadata": {},
     "output_type": "execute_result"
    }
   ],
   "source": [
    "name=\"darshan\"\n",
    "u_name=name.title()\n",
    "name==u_name\n"
   ]
  },
  {
   "cell_type": "code",
   "execution_count": 6,
   "id": "a1bac08e-28de-41a3-9a7b-20fb44b9991d",
   "metadata": {},
   "outputs": [
    {
     "name": "stdout",
     "output_type": "stream",
     "text": [
      "False\n"
     ]
    },
    {
     "data": {
      "text/plain": [
       "True"
      ]
     },
     "execution_count": 6,
     "metadata": {},
     "output_type": "execute_result"
    }
   ],
   "source": [
    "name=\"darshan\"\n",
    "no_1=len(name)\n",
    "u_name=name.upper()\n",
    "no_2=len(u_name)\n",
    "print(name==u_name)\n",
    "no_1==no_2"
   ]
  },
  {
   "cell_type": "code",
   "execution_count": 8,
   "id": "d2db6e12-5bb8-4b4d-9ed7-8a601cbf506e",
   "metadata": {},
   "outputs": [
    {
     "name": "stdout",
     "output_type": "stream",
     "text": [
      "darshan\n"
     ]
    }
   ],
   "source": [
    "name=\"darshan\"\n",
    "name[::-1]\n",
    "\n",
    "u_name=name[:]\n",
    "print(u_name)\n",
    "\n"
   ]
  },
  {
   "cell_type": "markdown",
   "id": "2c5bbe10-92a8-4a5d-9d0a-ad109e28b50a",
   "metadata": {},
   "source": [
    "# EVEN OR ODD\n",
    "\n"
   ]
  },
  {
   "cell_type": "code",
   "execution_count": 10,
   "id": "0611d31a-ae3d-4d48-8888-bf7d59bcc352",
   "metadata": {},
   "outputs": [
    {
     "name": "stdin",
     "output_type": "stream",
     "text": [
      "ENTER THE NUMBER TO CHECK : 13\n"
     ]
    },
    {
     "name": "stdout",
     "output_type": "stream",
     "text": [
      "THE GIVEN NUMBER IS ODD\n"
     ]
    }
   ],
   "source": [
    "num=int(input(\"ENTER THE NUMBER TO CHECK :\"))\n",
    "\n",
    "if num%2==0:\n",
    "    print(\"THE GIVEN NUMBER IS EVEN\")\n",
    "    \n",
    "else : print(\"THE GIVEN NUMBER IS ODD\")"
   ]
  },
  {
   "cell_type": "markdown",
   "id": "e180468b-bacb-43af-8da7-9516524996b7",
   "metadata": {},
   "source": [
    "# PERCENTAGE TO GRADE COVERTER\n"
   ]
  },
  {
   "cell_type": "code",
   "execution_count": 16,
   "id": "d089f762-33d3-4c6a-bb05-25ae465fbb80",
   "metadata": {},
   "outputs": [
    {
     "name": "stdin",
     "output_type": "stream",
     "text": [
      "ENTER THE PERCENTAGE  : 122\n"
     ]
    },
    {
     "name": "stdout",
     "output_type": "stream",
     "text": [
      "ENTER  THE VALID PERCENTAGE\n"
     ]
    }
   ],
   "source": [
    "per=int(input(\"ENTER THE PERCENTAGE  :\"))\n",
    "\n",
    "if per>=90 and per<=100:\n",
    "    print(\"CONGRATULATIONS YOU GOT A GRADE\")\n",
    "    \n",
    "elif per>=80 and per<=90:\n",
    "    print(\"CONGRATULATION'S YOU GOT  B GRADE\")\n",
    "    \n",
    "elif per>=60 and per<=80:\n",
    "    print(\"CONGRATULATION'S YOU GOT C GRADE\")\n",
    "    \n",
    "elif per <60 and per>=30:\n",
    "    print(\"CONGRATULATIONS YOU GOT D GRADE\")\n",
    "    \n",
    "elif per<30:\n",
    "    print(\"YOU GOT FAILED BUDDY \")\n",
    "    \n",
    "else: print(\"ENTER  THE VALID PERCENTAGE\")\n",
    "    \n"
   ]
  },
  {
   "cell_type": "markdown",
   "id": "9dab02dc-2d98-43d4-81f7-ce6c992f0a7f",
   "metadata": {},
   "source": [
    "# road tax on basics of bike rate"
   ]
  },
  {
   "cell_type": "code",
   "execution_count": 25,
   "id": "acae504c-c6fc-499a-803f-819563d3fd77",
   "metadata": {},
   "outputs": [
    {
     "name": "stdin",
     "output_type": "stream",
     "text": [
      "ENTER THE PRICE OF THE BIKE  : 100001\n"
     ]
    },
    {
     "name": "stdout",
     "output_type": "stream",
     "text": [
      "ROAD TAX IS 15000.15\n"
     ]
    }
   ],
   "source": [
    "price=int(input(\"ENTER THE PRICE OF THE BIKE  :\"))\n",
    "\n",
    "if price >100000:\n",
    "    print(\"ROAD TAX IS {}\".format((price*15)/100))\n",
    "    \n",
    "elif price>50000 and price<=100000:\n",
    "    print(\"ROAD TAX IS {}\".format((price*10)/100))\n",
    "elif price<=50000 :\n",
    "    print(\"ROAD TAX IS {}\".format((price*5)/100))\n",
    "    \n",
    "else:\n",
    "    print(\"PLEASE ENTER  THE VALID PRICE\")"
   ]
  },
  {
   "cell_type": "markdown",
   "id": "59b4aa7e-24a2-4792-b71e-67b548c38ccc",
   "metadata": {},
   "source": [
    "# TO CHECK WETHER LEAP YEAR ARE NOT"
   ]
  },
  {
   "cell_type": "code",
   "execution_count": 42,
   "id": "c175d81f-9cf9-4da9-b793-cce94d2aaf94",
   "metadata": {},
   "outputs": [
    {
     "name": "stdin",
     "output_type": "stream",
     "text": [
      "ENTER THE YEAR  : 1996\n"
     ]
    },
    {
     "name": "stdout",
     "output_type": "stream",
     "text": [
      "HENCE THE YEAR IS LEAP YEAR  \n"
     ]
    }
   ],
   "source": [
    "year=int(input(\"ENTER THE YEAR  :\"))\n",
    "\n",
    "if year%4==0:\n",
    "    print(\"HENCE THE YEAR IS LEAP YEAR  \")\n",
    "else:\n",
    "    print(\"HENCE ITS NOT A LEAP YEAR  \")\n",
    "\n"
   ]
  },
  {
   "cell_type": "markdown",
   "id": "0cb48380-4972-4268-8829-9f94d1b07369",
   "metadata": {},
   "source": [
    "# NUMBER TO DATE"
   ]
  },
  {
   "cell_type": "code",
   "execution_count": 45,
   "id": "365fdedd-7531-4d0b-b1b6-ce209ee9d958",
   "metadata": {},
   "outputs": [
    {
     "name": "stdin",
     "output_type": "stream",
     "text": [
      "ENTER THE NUMBER BTW  1-7 : 3\n"
     ]
    },
    {
     "name": "stdout",
     "output_type": "stream",
     "text": [
      "TUESDAY\n"
     ]
    }
   ],
   "source": [
    "num=int(input(\"ENTER THE NUMBER BTW  1-7 :\"))\n",
    "\n",
    "if num==1:\n",
    "    print(\"SUNDAY\")\n",
    "elif num==2:\n",
    "    print(\"MONDAY\")\n",
    "elif num==3:\n",
    "    print(\"TUESDAY\")\n",
    "elif num==4:\n",
    "    print(\"WEDNESDAY\")\n",
    "elif num==5:\n",
    "    print(\"THURSDAY\")\n",
    "elif num==6:\n",
    "    print(\"FRIDAY\")\n",
    "elif num==7:\n",
    "    print(\"SATRUDAY\")\n",
    "else:print(\"ENTER THE VALID NUMBER\")"
   ]
  },
  {
   "cell_type": "markdown",
   "id": "8ffcc81d-54eb-4bb8-a946-7906f8e01368",
   "metadata": {},
   "source": [
    "# comparing age\n"
   ]
  },
  {
   "cell_type": "code",
   "execution_count": 47,
   "id": "338cb24b-f805-457c-a18d-ce7e6f006882",
   "metadata": {},
   "outputs": [
    {
     "name": "stdin",
     "output_type": "stream",
     "text": [
      "ENTER THE AGE OF 1ST PERSON   22\n",
      "ENTER THE AGE OF 2ND PERSON   13\n",
      "ENTER THE AGE OF 3RD PERSON   15\n",
      "ENTER THE AGE OF 4TH PERSON   99\n"
     ]
    },
    {
     "name": "stdout",
     "output_type": "stream",
     "text": [
      "4TH PERSON IS ELDER\n"
     ]
    }
   ],
   "source": [
    "age1=int(input(\"ENTER THE AGE OF 1ST PERSON  \"))\n",
    "age2=int(input(\"ENTER THE AGE OF 2ND PERSON  \"))\n",
    "age3=int(input(\"ENTER THE AGE OF 3RD PERSON  \"))\n",
    "age4=int(input(\"ENTER THE AGE OF 4TH PERSON  \"))\n",
    "\n",
    "\n",
    "if age1>age2 and age1>age3 and age1>age4:\n",
    "    print(\"1ST PERSON IS ELDER\")\n",
    "elif age2>age3 and age2>age4:\n",
    "    print(\"2ND PERSON IS ELDER\")\n",
    "elif age3>age4 :\n",
    "    print(\"3RD PERSON IS ELDER\")\n",
    "    \n",
    "else:\n",
    "    print(\"4TH PERSON IS ELDER\")\n",
    "    \n"
   ]
  },
  {
   "cell_type": "code",
   "execution_count": null,
   "id": "8690ddb7-15fc-4873-b9e7-710de2e75e1f",
   "metadata": {},
   "outputs": [],
   "source": []
  }
 ],
 "metadata": {
  "kernelspec": {
   "display_name": "Python 3 (ipykernel)",
   "language": "python",
   "name": "python3"
  },
  "language_info": {
   "codemirror_mode": {
    "name": "ipython",
    "version": 3
   },
   "file_extension": ".py",
   "mimetype": "text/x-python",
   "name": "python",
   "nbconvert_exporter": "python",
   "pygments_lexer": "ipython3",
   "version": "3.10.8"
  }
 },
 "nbformat": 4,
 "nbformat_minor": 5
}
