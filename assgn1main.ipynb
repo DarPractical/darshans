{
 "cells": [
  {
   "cell_type": "code",
   "execution_count": null,
   "id": "e9c21b19-cc02-4893-8361-1845071d2ff5",
   "metadata": {},
   "outputs": [],
   "source": []
  },
  {
   "cell_type": "code",
   "execution_count": 1,
   "id": "5d2127b2-e1ef-4a2e-b3f7-1dddd76ae6a2",
   "metadata": {},
   "outputs": [
    {
     "data": {
      "text/plain": [
       "int"
      ]
     },
     "execution_count": 1,
     "metadata": {},
     "output_type": "execute_result"
    }
   ],
   "source": [
    "var1=2023\n",
    "type(var1)"
   ]
  },
  {
   "cell_type": "code",
   "execution_count": 2,
   "id": "f0b26d87-9e88-4c6f-a8a2-db9cc825bde0",
   "metadata": {},
   "outputs": [
    {
     "data": {
      "text/plain": [
       "str"
      ]
     },
     "execution_count": 2,
     "metadata": {},
     "output_type": "execute_result"
    }
   ],
   "source": [
    "var2=\"ALAKH SIR\"\n",
    "type(var2)\n"
   ]
  },
  {
   "cell_type": "code",
   "execution_count": 3,
   "id": "ed25626c-0753-419b-bf8c-6d3988a632ff",
   "metadata": {},
   "outputs": [
    {
     "data": {
      "text/plain": [
       "float"
      ]
     },
     "execution_count": 3,
     "metadata": {},
     "output_type": "execute_result"
    }
   ],
   "source": [
    "var3=3.142\n",
    "type(var3)"
   ]
  },
  {
   "cell_type": "code",
   "execution_count": 4,
   "id": "7916ad5f-3320-4c18-982c-6554c8375560",
   "metadata": {},
   "outputs": [
    {
     "data": {
      "text/plain": [
       "tuple"
      ]
     },
     "execution_count": 4,
     "metadata": {},
     "output_type": "execute_result"
    }
   ],
   "source": [
    "var4=(\"engniering\",\"bsc\",\"bca\",\"bcom\")\n",
    "type(var4)\n"
   ]
  },
  {
   "cell_type": "code",
   "execution_count": null,
   "id": "61de7575-2e38-405d-837b-2f6a8de2aa45",
   "metadata": {},
   "outputs": [],
   "source": [
    "#question 2"
   ]
  },
  {
   "cell_type": "code",
   "execution_count": null,
   "id": "10092bd8-a0f5-4da6-987d-f42b91fb7695",
   "metadata": {},
   "outputs": [],
   "source": []
  },
  {
   "cell_type": "code",
   "execution_count": 1,
   "id": "cb1306cd-76a8-47df-b23d-155eeff84e28",
   "metadata": {},
   "outputs": [
    {
     "data": {
      "text/plain": [
       "str"
      ]
     },
     "execution_count": 1,
     "metadata": {},
     "output_type": "execute_result"
    }
   ],
   "source": [
    "var1=' '\n",
    "type(var1)\n"
   ]
  },
  {
   "cell_type": "code",
   "execution_count": 2,
   "id": "3d569962-7fba-4858-8ce3-f9fedf6590d6",
   "metadata": {},
   "outputs": [
    {
     "data": {
      "text/plain": [
       "str"
      ]
     },
     "execution_count": 2,
     "metadata": {},
     "output_type": "execute_result"
    }
   ],
   "source": [
    "var2='[ds,ml,python]'\n",
    "type(var2)"
   ]
  },
  {
   "cell_type": "code",
   "execution_count": 4,
   "id": "5d39c43f-9f7f-4424-8cd9-c3166e8239bb",
   "metadata": {},
   "outputs": [
    {
     "data": {
      "text/plain": [
       "list"
      ]
     },
     "execution_count": 4,
     "metadata": {},
     "output_type": "execute_result"
    }
   ],
   "source": [
    "var3=[\"BHAGATH SINGH\",\"SHUBHAS CHANDRA BOSE\",\"PAWANKAYALN\",\"CHEGUVERA\"]\n",
    "type(var3)\n",
    "      "
   ]
  },
  {
   "cell_type": "code",
   "execution_count": 5,
   "id": "e02737ea-4992-4c35-9525-364df020389d",
   "metadata": {},
   "outputs": [
    {
     "data": {
      "text/plain": [
       "float"
      ]
     },
     "execution_count": 5,
     "metadata": {},
     "output_type": "execute_result"
    }
   ],
   "source": [
    "var4=1.\n",
    "type(var4)\n",
    "      "
   ]
  },
  {
   "cell_type": "code",
   "execution_count": null,
   "id": "48bd4193-2267-4f1a-9d44-cd18b620d0cc",
   "metadata": {},
   "outputs": [],
   "source": []
  },
  {
   "cell_type": "code",
   "execution_count": null,
   "id": "26ae4cd2-ad85-4a2f-9c71-1f72c998f1c6",
   "metadata": {},
   "outputs": [],
   "source": [
    "#question3\n",
    "\n"
   ]
  },
  {
   "cell_type": "code",
   "execution_count": null,
   "id": "8d5aa24e-60d0-4875-868e-553c927404d8",
   "metadata": {},
   "outputs": [],
   "source": []
  },
  {
   "cell_type": "code",
   "execution_count": 1,
   "id": "03ca1c88-95e9-4540-9364-c3f596aa9c3b",
   "metadata": {},
   "outputs": [
    {
     "data": {
      "text/plain": [
       "2.0"
      ]
     },
     "execution_count": 1,
     "metadata": {},
     "output_type": "execute_result"
    }
   ],
   "source": [
    "#'/' --> thid called slash,,in most of the programming language '/' is used for \"division\", it gives quoient as an output,\n",
    "\n",
    "#for instance  4 divide by 2 is =2\n",
    "\n",
    "4/2\n",
    "\n",
    "#hence verified\n"
   ]
  },
  {
   "cell_type": "code",
   "execution_count": 2,
   "id": "2460d692-ef23-4bd4-93c5-ed933a2a4ad3",
   "metadata": {},
   "outputs": [
    {
     "data": {
      "text/plain": [
       "1"
      ]
     },
     "execution_count": 2,
     "metadata": {},
     "output_type": "execute_result"
    }
   ],
   "source": [
    "#\"%\" modules operator is used for getting reminder as an output,\n",
    "\n",
    "#for ex    6 diviedes 5 then the reminder is 1\n",
    "6%5"
   ]
  },
  {
   "cell_type": "code",
   "execution_count": 3,
   "id": "5bdc3bc0-542f-4a6e-be4f-c00f78941f42",
   "metadata": {},
   "outputs": [
    {
     "data": {
      "text/plain": [
       "1"
      ]
     },
     "execution_count": 3,
     "metadata": {},
     "output_type": "execute_result"
    }
   ],
   "source": [
    "#\"//\" the func of double slash is also called flor operator,becasue it returns the integer as a result\n",
    "\n",
    "#for ex\n",
    "4//3\n"
   ]
  },
  {
   "cell_type": "code",
   "execution_count": 6,
   "id": "3524f67c-b19a-4ae3-a415-f43e3b7474ac",
   "metadata": {},
   "outputs": [
    {
     "data": {
      "text/plain": [
       "27"
      ]
     },
     "execution_count": 6,
     "metadata": {},
     "output_type": "execute_result"
    }
   ],
   "source": [
    "#\"**\" --> this orperator is know as  exponential operator, its raise to power of left operand by right opernad\n",
    "\n",
    "#for ex\n",
    "\n",
    "3**3\n",
    "\n"
   ]
  },
  {
   "cell_type": "code",
   "execution_count": null,
   "id": "105d6131-cacc-47c5-b5a6-ea42feb1ccbd",
   "metadata": {},
   "outputs": [],
   "source": []
  },
  {
   "cell_type": "code",
   "execution_count": null,
   "id": "7f2d7985-7339-464c-8c8e-aec263dd0848",
   "metadata": {},
   "outputs": [],
   "source": [
    "#question 4\n"
   ]
  },
  {
   "cell_type": "code",
   "execution_count": null,
   "id": "07d62b68-c47e-4fc1-bb4a-aa3c7851ad9c",
   "metadata": {},
   "outputs": [],
   "source": [
    " "
   ]
  },
  {
   "cell_type": "code",
   "execution_count": 3,
   "id": "2ec0cf4a-0f8e-4f53-8079-28adb117b996",
   "metadata": {},
   "outputs": [
    {
     "data": {
      "text/plain": [
       "10"
      ]
     },
     "execution_count": 3,
     "metadata": {},
     "output_type": "execute_result"
    }
   ],
   "source": [
    "#lets say list name be hetro and it contains diffrent types of data types\n",
    "\n",
    "hetro=[\"roy\",36,3.14,\"indian\",33,12,\"data\",1.233,2.77,\"pw\"]\n",
    "len(hetro)"
   ]
  },
  {
   "cell_type": "code",
   "execution_count": 4,
   "id": "66817989-c91a-4564-862e-264f4fe27722",
   "metadata": {},
   "outputs": [
    {
     "name": "stdout",
     "output_type": "stream",
     "text": [
      "THE ELEMENT IS = roy\n",
      "THE DATA TYPE OF THE ITEM/ELEMENT IS  <class 'str'>\n",
      "THE ELEMENT IS = 36\n",
      "THE DATA TYPE OF THE ITEM/ELEMENT IS  <class 'int'>\n",
      "THE ELEMENT IS = 3.14\n",
      "THE DATA TYPE OF THE ITEM/ELEMENT IS  <class 'float'>\n",
      "THE ELEMENT IS = indian\n",
      "THE DATA TYPE OF THE ITEM/ELEMENT IS  <class 'str'>\n",
      "THE ELEMENT IS = 33\n",
      "THE DATA TYPE OF THE ITEM/ELEMENT IS  <class 'int'>\n",
      "THE ELEMENT IS = 12\n",
      "THE DATA TYPE OF THE ITEM/ELEMENT IS  <class 'int'>\n",
      "THE ELEMENT IS = data\n",
      "THE DATA TYPE OF THE ITEM/ELEMENT IS  <class 'str'>\n",
      "THE ELEMENT IS = 1.233\n",
      "THE DATA TYPE OF THE ITEM/ELEMENT IS  <class 'float'>\n",
      "THE ELEMENT IS = 2.77\n",
      "THE DATA TYPE OF THE ITEM/ELEMENT IS  <class 'float'>\n",
      "THE ELEMENT IS = pw\n",
      "THE DATA TYPE OF THE ITEM/ELEMENT IS  <class 'str'>\n"
     ]
    }
   ],
   "source": [
    "for item in hetro :\n",
    "    print(\"THE ELEMENT IS =\",item)\n",
    "    print(\"THE DATA TYPE OF THE ITEM/ELEMENT IS \",type(item))"
   ]
  },
  {
   "cell_type": "code",
   "execution_count": null,
   "id": "7a6316e0-e030-4dbe-9931-034711df8561",
   "metadata": {},
   "outputs": [],
   "source": []
  },
  {
   "cell_type": "code",
   "execution_count": null,
   "id": "dad05cff-e561-474a-957a-b86c0336321b",
   "metadata": {},
   "outputs": [],
   "source": [
    "#question 5\n"
   ]
  },
  {
   "cell_type": "code",
   "execution_count": null,
   "id": "b4392b7c-ec13-4fb3-9289-e5031097b205",
   "metadata": {},
   "outputs": [],
   "source": [
    "\n"
   ]
  }
 ],
 "metadata": {
  "kernelspec": {
   "display_name": "Python 3 (ipykernel)",
   "language": "python",
   "name": "python3"
  },
  "language_info": {
   "codemirror_mode": {
    "name": "ipython",
    "version": 3
   },
   "file_extension": ".py",
   "mimetype": "text/x-python",
   "name": "python",
   "nbconvert_exporter": "python",
   "pygments_lexer": "ipython3",
   "version": "3.10.8"
  }
 },
 "nbformat": 4,
 "nbformat_minor": 5
}
