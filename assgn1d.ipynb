{
 "cells": [
  {
   "cell_type": "code",
   "execution_count": 3,
   "id": "a0da3286-711d-4905-9f16-30e484029153",
   "metadata": {},
   "outputs": [
    {
     "data": {
      "text/plain": [
       "10"
      ]
     },
     "execution_count": 3,
     "metadata": {},
     "output_type": "execute_result"
    }
   ],
   "source": [
    "#lets say list name be hetro and it contains diffrent types of data types\n",
    "\n",
    "hetro=[\"roy\",36,3.14,\"indian\",33,12,\"data\",1.233,2.77,\"pw\"]\n",
    "len(hetro)"
   ]
  },
  {
   "cell_type": "code",
   "execution_count": 4,
   "id": "3cfa83a8-49f5-4910-8d85-2de529ca0ca9",
   "metadata": {},
   "outputs": [
    {
     "name": "stdout",
     "output_type": "stream",
     "text": [
      "THE ELEMENT IS = roy\n",
      "THE DATA TYPE OF THE ITEM/ELEMENT IS  <class 'str'>\n",
      "THE ELEMENT IS = 36\n",
      "THE DATA TYPE OF THE ITEM/ELEMENT IS  <class 'int'>\n",
      "THE ELEMENT IS = 3.14\n",
      "THE DATA TYPE OF THE ITEM/ELEMENT IS  <class 'float'>\n",
      "THE ELEMENT IS = indian\n",
      "THE DATA TYPE OF THE ITEM/ELEMENT IS  <class 'str'>\n",
      "THE ELEMENT IS = 33\n",
      "THE DATA TYPE OF THE ITEM/ELEMENT IS  <class 'int'>\n",
      "THE ELEMENT IS = 12\n",
      "THE DATA TYPE OF THE ITEM/ELEMENT IS  <class 'int'>\n",
      "THE ELEMENT IS = data\n",
      "THE DATA TYPE OF THE ITEM/ELEMENT IS  <class 'str'>\n",
      "THE ELEMENT IS = 1.233\n",
      "THE DATA TYPE OF THE ITEM/ELEMENT IS  <class 'float'>\n",
      "THE ELEMENT IS = 2.77\n",
      "THE DATA TYPE OF THE ITEM/ELEMENT IS  <class 'float'>\n",
      "THE ELEMENT IS = pw\n",
      "THE DATA TYPE OF THE ITEM/ELEMENT IS  <class 'str'>\n"
     ]
    }
   ],
   "source": [
    "for item in hetro :\n",
    "    print(\"THE ELEMENT IS =\",item)\n",
    "    print(\"THE DATA TYPE OF THE ITEM/ELEMENT IS \",type(item))"
   ]
  },
  {
   "cell_type": "code",
   "execution_count": null,
   "id": "b866d458-1c02-459a-a377-bb6f9af61bf6",
   "metadata": {},
   "outputs": [],
   "source": []
  }
 ],
 "metadata": {
  "kernelspec": {
   "display_name": "Python 3 (ipykernel)",
   "language": "python",
   "name": "python3"
  },
  "language_info": {
   "codemirror_mode": {
    "name": "ipython",
    "version": 3
   },
   "file_extension": ".py",
   "mimetype": "text/x-python",
   "name": "python",
   "nbconvert_exporter": "python",
   "pygments_lexer": "ipython3",
   "version": "3.10.8"
  }
 },
 "nbformat": 4,
 "nbformat_minor": 5
}
