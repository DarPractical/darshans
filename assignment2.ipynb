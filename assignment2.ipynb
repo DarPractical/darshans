{
 "cells": [
  {
   "cell_type": "markdown",
   "id": "3e7179b4-b75c-46aa-a040-2c099e831d7f",
   "metadata": {},
   "source": [
    "# Q1. How do you comment code in Python? What are the different types of comments?"
   ]
  },
  {
   "cell_type": "markdown",
   "id": "9e8ddc1c-3755-4113-9f5a-54400d4c3648",
   "metadata": {},
   "source": [
    "==>WE USE \"#\" FOR COMMENTING IN CODE AND SOMETIMES DOCTRING ALSO\n",
    "THERE ARE TWO TYPES OF COMMENTING \n",
    "ONE IS SINGLE LINE COMMENTING==> HERE WE USE \"#\" FOR COMMENTING \n",
    " ONE IS MULTI LINE COMMENTING(DOCSTRING)==> HERE WE USE <\"\">FOR COMMENTING \n"
   ]
  },
  {
   "cell_type": "markdown",
   "id": "491a4844-1182-4ea0-a765-90bd48b4f8df",
   "metadata": {},
   "source": [
    "#### FOR EXAMPLE \n"
   ]
  },
  {
   "cell_type": "code",
   "execution_count": 38,
   "id": "1eb267a8-f6f9-4c6a-b147-f13f33078924",
   "metadata": {},
   "outputs": [
    {
     "name": "stdout",
     "output_type": "stream",
     "text": [
      "[1, 2, 3, 4, 5]\n"
     ]
    }
   ],
   "source": [
    "lists=[1,2,3,4,5] #here we used single line comment\n",
    "\n",
    "\"\"\" this is called multi line commenting \n",
    "    here we need to be more carefull regard of indentation  #doctring\n",
    "\"\"\"\n",
    "print(lists)"
   ]
  },
  {
   "cell_type": "markdown",
   "id": "8e45bf3f-3cc5-48f8-a418-f08850f2eda6",
   "metadata": {},
   "source": [
    "## Q2. What are variables in Python? How do you declare and assign values to variables?"
   ]
  },
  {
   "cell_type": "markdown",
   "id": "eb7c8939-f6b2-4bc3-84a8-cd14f0797621",
   "metadata": {},
   "source": [
    "### variables=> variable are the conatiners we can use those varibale for store the data we use \"=\" assign operator to store the data"
   ]
  },
  {
   "cell_type": "code",
   "execution_count": 3,
   "id": "080b3720-39cf-4d50-a8d3-4dd46933177d",
   "metadata": {
    "tags": []
   },
   "outputs": [
    {
     "data": {
      "text/plain": [
       "int"
      ]
     },
     "execution_count": 3,
     "metadata": {},
     "output_type": "execute_result"
    }
   ],
   "source": [
    "#lets say \"a\" be a varibale and we declared and assign value 123\n",
    "a=123\n",
    "type(a)  #we ca esaily see it stores the int value \n"
   ]
  },
  {
   "cell_type": "markdown",
   "id": "9b80258b-df9b-41a0-8913-4e88af506bdd",
   "metadata": {
    "tags": []
   },
   "source": [
    "# Q3How do you convert one data type to another in Python?"
   ]
  },
  {
   "cell_type": "code",
   "execution_count": 8,
   "id": "8cdb3804-504e-4a7f-8da6-c8ba8d24523d",
   "metadata": {
    "tags": []
   },
   "outputs": [
    {
     "name": "stdin",
     "output_type": "stream",
     "text": [
      "ENTER THE NUMBER  : 1233\n"
     ]
    },
    {
     "name": "stdout",
     "output_type": "stream",
     "text": [
      "1233\n"
     ]
    }
   ],
   "source": [
    "#here we use typecasting concept for convertinng one datatype to another datatype  \n",
    "# int(),str(),float() these are help us to covert one data type to another datatype\n",
    "\n",
    "#for examples ==> string to interger \n",
    "string=input(\"ENTER THE NUMBER  :\")\n",
    "type(string)#here we can clearly see that its in string formate\n",
    "\n",
    "interger=int(string)\n",
    "\n",
    "type(interger) #)#here we can clearly see that its in integer  formate\n",
    "\n",
    "#another example for type casting float to interger \n",
    "print(interger)\n"
   ]
  },
  {
   "cell_type": "code",
   "execution_count": 10,
   "id": "d845c7b7-48f7-4d2a-8a82-ca44e6f7ce0d",
   "metadata": {},
   "outputs": [
    {
     "data": {
      "text/plain": [
       "int"
      ]
     },
     "execution_count": 10,
     "metadata": {},
     "output_type": "execute_result"
    }
   ],
   "source": [
    "a=12.34\n",
    "type(a)  #it stores the float datatype\n",
    "\n",
    "b=int(a)\n",
    "type(b) # here we had coverted into intger\n"
   ]
  },
  {
   "cell_type": "markdown",
   "id": "f443ee16-ca01-4232-bbac-e53990eb87b4",
   "metadata": {},
   "source": [
    "# Q5. Given a list my_list = [1, 2, 3, 4, 5], write the code to slice the list and obtain the sub-list [2, 3]."
   ]
  },
  {
   "cell_type": "code",
   "execution_count": 3,
   "id": "bdf23e51-08c7-4e16-8cc3-fa8cfeed82c9",
   "metadata": {},
   "outputs": [
    {
     "name": "stdout",
     "output_type": "stream",
     "text": [
      "[2, 3]\n"
     ]
    }
   ],
   "source": [
    "#given list is \n",
    "my_list=[1,2,3,4,5]\n",
    "\n",
    "#here we use sliceing operations\n",
    "\n",
    "# to resvrse a list \n",
    "my_list[::-1]\n",
    "# to print required answer\n",
    "req_list=my_list[1:3]\n",
    "print(req_list)\n",
    "\n"
   ]
  },
  {
   "cell_type": "markdown",
   "id": "9968f521-4c2d-45f9-969a-7c815c089112",
   "metadata": {},
   "source": [
    "# Q6. What is a complex number in mathematics, and how is it represented in Python?"
   ]
  },
  {
   "cell_type": "code",
   "execution_count": 9,
   "id": "e42be9ab-c6c3-4523-a6f9-2f402729208d",
   "metadata": {},
   "outputs": [
    {
     "name": "stdout",
     "output_type": "stream",
     "text": [
      "(2+3j) <class 'complex'>\n"
     ]
    }
   ],
   "source": [
    "#solution:\n",
    "    \n",
    "    #The number which is expressed in form of (a+ib)\n",
    "    #where a,b are realnumbers\n",
    "    #\"i\" are imginary number.\n",
    "    \n",
    "    # in python it is represtend as\n",
    "a=2+3j\n",
    "type(a)\n",
    "print(a,type(a))\n",
    "    "
   ]
  },
  {
   "cell_type": "markdown",
   "id": "7e818642-6e76-4258-b939-fafba3e383bb",
   "metadata": {},
   "source": [
    "# Q7. What is the correct way to declare a variable named age and assign the value 25 to it?"
   ]
  },
  {
   "cell_type": "code",
   "execution_count": 11,
   "id": "05273667-4f2b-4d58-8151-ea5ccb6e800d",
   "metadata": {},
   "outputs": [
    {
     "name": "stdout",
     "output_type": "stream",
     "text": [
      "YOUR AGE MAY BE  :25\n"
     ]
    }
   ],
   "source": [
    "# to declare a variable \"age\"\n",
    "age=25 #here we assign the value of 25 to it \n",
    "print(\"YOUR AGE MAY BE  :{}\".format(age))\n",
    "#here we declared sucessfully"
   ]
  },
  {
   "cell_type": "markdown",
   "id": "49f4ccee-19b4-403a-8513-d38f57570c1a",
   "metadata": {},
   "source": [
    "# Q8. Declare a variable named price and assign the value 9.99 to it. What data type does this variable belong to?"
   ]
  },
  {
   "cell_type": "code",
   "execution_count": 13,
   "id": "581b7b75-38cf-45b9-92f4-a0e5ee8cc829",
   "metadata": {},
   "outputs": [
    {
     "name": "stdout",
     "output_type": "stream",
     "text": [
      "9.99 <class 'float'>\n"
     ]
    }
   ],
   "source": [
    "# lets declare a varibale price and assign value 9.99\n",
    "price=9.99\n",
    "\n",
    "#to check the datatype of price we use 'type()' func\n",
    "print(price,type(price))\n",
    "# here it stores the float value"
   ]
  },
  {
   "cell_type": "markdown",
   "id": "ee3623b7-d757-4942-9134-6cc75c5127d1",
   "metadata": {},
   "source": [
    "# Q9. Create a variable named name and assign your full name to it as a string. How would you print the value of this variable?"
   ]
  },
  {
   "cell_type": "code",
   "execution_count": 15,
   "id": "183fb3b4-19db-44da-a491-34cd2057f838",
   "metadata": {},
   "outputs": [
    {
     "name": "stdout",
     "output_type": "stream",
     "text": [
      "Darshan kumar R <class 'str'>\n"
     ]
    }
   ],
   "source": [
    "# here we create a varibale named \"name\" and we assign my full name\n",
    "name=\"Darshan kumar R\"\n",
    "#by using the print func we can print this value \n",
    "print(name,type(name))"
   ]
  },
  {
   "cell_type": "markdown",
   "id": "39becabb-9207-49d5-926a-5a558eb0dd79",
   "metadata": {},
   "source": [
    "# Q10 Given the string \"Hello, World!\", extract the substring \"World\".\n"
   ]
  },
  {
   "cell_type": "code",
   "execution_count": 20,
   "id": "792b0de9-284d-432b-9c50-0273eb254c00",
   "metadata": {},
   "outputs": [
    {
     "data": {
      "text/plain": [
       "'WORLD'"
      ]
     },
     "execution_count": 20,
     "metadata": {},
     "output_type": "execute_result"
    }
   ],
   "source": [
    "#by using slice operation on strings we can extract the req string\n",
    "string=\"HELLOW WORLD!\"\n",
    "string[7:12]\n",
    "#we can use 'split()' also "
   ]
  },
  {
   "cell_type": "markdown",
   "id": "d2c3d53e-9b4c-408e-b255-8f39074cc86f",
   "metadata": {},
   "source": [
    "# Q11 Create a variable named \"is_student\" and assign it a boolean value indicating whether you are currently a student or not."
   ]
  },
  {
   "cell_type": "code",
   "execution_count": 36,
   "id": "aa53b92a-19da-453b-a165-3936aefaa716",
   "metadata": {},
   "outputs": [
    {
     "name": "stdout",
     "output_type": "stream",
     "text": [
      "True\n"
     ]
    }
   ],
   "source": [
    "#checking wether your student are  not\n",
    "is_student=bool(1)\n",
    "print(is_student)"
   ]
  },
  {
   "cell_type": "code",
   "execution_count": 37,
   "id": "7a1abc2e-426b-4b46-b5b9-80f61e22d8fe",
   "metadata": {},
   "outputs": [
    {
     "name": "stdout",
     "output_type": "stream",
     "text": [
      "False\n"
     ]
    }
   ],
   "source": [
    "#checking wether your student are  not\n",
    "is_student=bool(0)\n",
    "print(is_student)"
   ]
  },
  {
   "cell_type": "markdown",
   "id": "5dff80e8-9f6c-4f95-8f89-86f8e73e8946",
   "metadata": {},
   "source": [
    "# Q4. How do you write and execute a Python script from the command line?"
   ]
  },
  {
   "cell_type": "markdown",
   "id": "e60732f9-3262-4858-a008-2c4440eb593e",
   "metadata": {},
   "source": [
    "solution:\n",
    "    1st of all we have to add configuration to termianal\n",
    "    we have to 1st creat a scprit in python IDE and we run the "
   ]
  }
 ],
 "metadata": {
  "kernelspec": {
   "display_name": "Python 3 (ipykernel)",
   "language": "python",
   "name": "python3"
  },
  "language_info": {
   "codemirror_mode": {
    "name": "ipython",
    "version": 3
   },
   "file_extension": ".py",
   "mimetype": "text/x-python",
   "name": "python",
   "nbconvert_exporter": "python",
   "pygments_lexer": "ipython3",
   "version": "3.10.8"
  }
 },
 "nbformat": 4,
 "nbformat_minor": 5
}
