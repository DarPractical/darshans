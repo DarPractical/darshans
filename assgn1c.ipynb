{
 "cells": [
  {
   "cell_type": "code",
   "execution_count": 1,
   "id": "10a637cf-0f50-4930-b2fb-7047aaf275d4",
   "metadata": {},
   "outputs": [
    {
     "data": {
      "text/plain": [
       "2.0"
      ]
     },
     "execution_count": 1,
     "metadata": {},
     "output_type": "execute_result"
    }
   ],
   "source": [
    "#'/' --> thid called slash,,in most of the programming language '/' is used for \"division\", it gives quoient as an output,\n",
    "\n",
    "#for instance  4 divide by 2 is =2\n",
    "\n",
    "4/2\n",
    "\n",
    "#hence verified\n"
   ]
  },
  {
   "cell_type": "code",
   "execution_count": 2,
   "id": "b3509a34-40f1-48a1-8faa-8c940a531110",
   "metadata": {},
   "outputs": [
    {
     "data": {
      "text/plain": [
       "1"
      ]
     },
     "execution_count": 2,
     "metadata": {},
     "output_type": "execute_result"
    }
   ],
   "source": [
    "#\"%\" modules operator is used for getting reminder as an output,\n",
    "\n",
    "#for ex    6 diviedes 5 then the reminder is 1\n",
    "6%5"
   ]
  },
  {
   "cell_type": "code",
   "execution_count": 3,
   "id": "b6d9a19e-814d-4e7a-837d-11dbdf6d0798",
   "metadata": {},
   "outputs": [
    {
     "data": {
      "text/plain": [
       "1"
      ]
     },
     "execution_count": 3,
     "metadata": {},
     "output_type": "execute_result"
    }
   ],
   "source": [
    "#\"//\" the func of double slash is also called flor operator,becasue it returns the integer as a result\n",
    "\n",
    "#for ex\n",
    "4//3\n"
   ]
  },
  {
   "cell_type": "code",
   "execution_count": 6,
   "id": "35ab252e-deb1-4ad0-8f15-01354523f27f",
   "metadata": {},
   "outputs": [
    {
     "data": {
      "text/plain": [
       "27"
      ]
     },
     "execution_count": 6,
     "metadata": {},
     "output_type": "execute_result"
    }
   ],
   "source": [
    "#\"**\" --> this orperator is know as  exponential operator, its raise to power of left operand by right opernad\n",
    "\n",
    "#for ex\n",
    "\n",
    "3**3\n",
    "\n"
   ]
  },
  {
   "cell_type": "code",
   "execution_count": null,
   "id": "7f1b559d-92a1-4f6b-8e04-5909af7450a2",
   "metadata": {},
   "outputs": [],
   "source": []
  }
 ],
 "metadata": {
  "kernelspec": {
   "display_name": "Python 3 (ipykernel)",
   "language": "python",
   "name": "python3"
  },
  "language_info": {
   "codemirror_mode": {
    "name": "ipython",
    "version": 3
   },
   "file_extension": ".py",
   "mimetype": "text/x-python",
   "name": "python",
   "nbconvert_exporter": "python",
   "pygments_lexer": "ipython3",
   "version": "3.10.8"
  }
 },
 "nbformat": 4,
 "nbformat_minor": 5
}
