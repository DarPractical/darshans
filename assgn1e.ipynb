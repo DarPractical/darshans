{
 "cells": [
  {
   "cell_type": "code",
   "execution_count": null,
   "id": "735a4df3-48dc-44cf-a0d7-9de3782217c1",
   "metadata": {},
   "outputs": [],
   "source": [
    "#here we creat a list named \"homo\" of 25 int data type by using range func"
   ]
  },
  {
   "cell_type": "code",
   "execution_count": 4,
   "id": "eacaede5-cf72-4362-803d-77cd20f5cc78",
   "metadata": {},
   "outputs": [
    {
     "name": "stdout",
     "output_type": "stream",
     "text": [
      "[1, 2, 3, 4, 5, 6, 7, 8, 9, 10, 11, 12, 13, 14, 15, 16, 17, 18, 19, 20, 21, 22, 23, 24, 25]\n"
     ]
    }
   ],
   "source": [
    "homo=list(range(1,26))\n",
    "print(homo)\n"
   ]
  },
  {
   "cell_type": "code",
   "execution_count": 11,
   "id": "4d09c165-e239-4b44-9acc-5db0adc556b8",
   "metadata": {},
   "outputs": [
    {
     "name": "stdout",
     "output_type": "stream",
     "text": [
      "THE NUMBER  3  IS DIVISABLE BY 3\n",
      "THE NUMBER  6  IS DIVISABLE BY 3\n",
      "THE NUMBER  9  IS DIVISABLE BY 3\n",
      "THE NUMBER  12  IS DIVISABLE BY 3\n",
      "THE NUMBER  15  IS DIVISABLE BY 3\n",
      "THE NUMBER  18  IS DIVISABLE BY 3\n",
      "THE NUMBER  21  IS DIVISABLE BY 3\n",
      "THE NUMBER  24  IS DIVISABLE BY 3\n",
      "[3, 6, 9, 12, 15, 18, 21, 24]\n",
      "THE BELOW NUMBERS ARE NOT DIVISABLE BY 3\n",
      "[1, 2, 4, 5, 7, 8, 10, 11, 13, 14, 16, 17, 19, 20, 22, 23, 25]\n"
     ]
    }
   ],
   "source": [
    "#creating a new list named div3 wich stores the elemnts is divisable by 3\n",
    "div3=[]\n",
    "div_n3=[]\n",
    "for ele in homo :\n",
    "    if ele%3==0:\n",
    "        div3.append(ele)\n",
    "        print(\"THE NUMBER \",ele,\" IS DIVISABLE BY 3\")\n",
    "        \n",
    "    elif ele%3!=0:\n",
    "        div_n3.append(ele)\n",
    "        pass\n",
    "    else:\n",
    "        pass\n",
    "        \n",
    "    \n",
    "print(div3)\n",
    "print(\"THE BELOW NUMBERS ARE NOT DIVISABLE BY 3\")\n",
    "print(div_n3)\n",
    "\n",
    "    \n",
    "        "
   ]
  },
  {
   "cell_type": "code",
   "execution_count": null,
   "id": "85a54bad-0491-455c-924d-6940b4e11ace",
   "metadata": {},
   "outputs": [],
   "source": []
  }
 ],
 "metadata": {
  "kernelspec": {
   "display_name": "Python 3 (ipykernel)",
   "language": "python",
   "name": "python3"
  },
  "language_info": {
   "codemirror_mode": {
    "name": "ipython",
    "version": 3
   },
   "file_extension": ".py",
   "mimetype": "text/x-python",
   "name": "python",
   "nbconvert_exporter": "python",
   "pygments_lexer": "ipython3",
   "version": "3.10.8"
  }
 },
 "nbformat": 4,
 "nbformat_minor": 5
}
