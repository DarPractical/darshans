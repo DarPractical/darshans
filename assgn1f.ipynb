{
 "cells": [
  {
   "cell_type": "code",
   "execution_count": 1,
   "id": "5e194132-54ea-4e9a-88f9-2036bc57c158",
   "metadata": {},
   "outputs": [
    {
     "name": "stdout",
     "output_type": "stream",
     "text": [
      "['RRR', 'BHAHUBALLI', 'PUSHPA', 'HARA HARA VERA MALLU', 'BRO', 'VIRUPAKSHA', 'BHEEMLA NAYAK']\n"
     ]
    }
   ],
   "source": [
    "#concept of mutablity --> the type wich allows to change or modify the inside them\n",
    "\n",
    "#for instance list are mutable\n",
    "\n",
    "#the list named movies contains films\n",
    "\n",
    "movies=[\"RRR\",\"BHAHUBALLI\",\"PUSHPA\",\"HARA HARA VERA MALLU\",\"BRO\",\"VIRUPAKSHA\"]\n",
    "\n",
    "#NOW WE CAN ADD THE NEW MOVIWE TO THE LIST BY USING  \"INSERT\"\n",
    "\n",
    "movies.insert(7,\"BHEEMLA NAYAK\")\n",
    "\n",
    "print(movies)\n",
    "# hence these are mutable \n"
   ]
  },
  {
   "cell_type": "code",
   "execution_count": 3,
   "id": "8911bea1-aff0-4818-8278-052eed7ff84e",
   "metadata": {},
   "outputs": [
    {
     "ename": "AttributeError",
     "evalue": "'str' object has no attribute 'pop'",
     "output_type": "error",
     "traceback": [
      "\u001b[0;31m---------------------------------------------------------------------------\u001b[0m",
      "\u001b[0;31mAttributeError\u001b[0m                            Traceback (most recent call last)",
      "Cell \u001b[0;32mIn[3], line 8\u001b[0m\n\u001b[1;32m      1\u001b[0m \u001b[38;5;66;03m#concept of immutablity --> the type wich doesn't  allows to change or modify the inside them\u001b[39;00m\n\u001b[1;32m      2\u001b[0m \n\u001b[1;32m      3\u001b[0m \u001b[38;5;66;03m#for instance strings and tuples are immutable\u001b[39;00m\n\u001b[1;32m      4\u001b[0m \n\u001b[1;32m      5\u001b[0m \u001b[38;5;66;03m#the string named bharath\u001b[39;00m\n\u001b[1;32m      7\u001b[0m name\u001b[38;5;241m=\u001b[39m\u001b[38;5;124m\"\u001b[39m\u001b[38;5;124mBHARATH\u001b[39m\u001b[38;5;124m\"\u001b[39m\n\u001b[0;32m----> 8\u001b[0m \u001b[43mname\u001b[49m\u001b[38;5;241;43m.\u001b[39;49m\u001b[43mpop\u001b[49m(\u001b[38;5;241m1\u001b[39m)\n\u001b[1;32m      9\u001b[0m \u001b[38;5;28mprint\u001b[39m(name)\n",
      "\u001b[0;31mAttributeError\u001b[0m: 'str' object has no attribute 'pop'"
     ]
    }
   ],
   "source": [
    "#concept of immutablity --> the type wich doesn't  allows to change or modify the inside them\n",
    "\n",
    "#for instance strings and tuples are immutable\n",
    "\n",
    "#the string named bharath\n",
    "\n",
    "name=\"BHARATH\"\n",
    "name.pop(1)\n",
    "print(name)"
   ]
  },
  {
   "cell_type": "code",
   "execution_count": null,
   "id": "fe1b1dc6-f239-4403-8810-701f782f620e",
   "metadata": {},
   "outputs": [],
   "source": [
    "#hence its concept called immutablity"
   ]
  }
 ],
 "metadata": {
  "kernelspec": {
   "display_name": "Python 3 (ipykernel)",
   "language": "python",
   "name": "python3"
  },
  "language_info": {
   "codemirror_mode": {
    "name": "ipython",
    "version": 3
   },
   "file_extension": ".py",
   "mimetype": "text/x-python",
   "name": "python",
   "nbconvert_exporter": "python",
   "pygments_lexer": "ipython3",
   "version": "3.10.8"
  },
  "toc-autonumbering": true
 },
 "nbformat": 4,
 "nbformat_minor": 5
}
